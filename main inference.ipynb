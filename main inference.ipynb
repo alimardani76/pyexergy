{
 "cells": [
  {
   "cell_type": "markdown",
   "id": "81a24aff-3ef0-437d-83fa-cff5e9842689",
   "metadata": {},
   "source": [
    "## Fast Calculation of Exergy Loss of the PRICO Process Using Pre-Trained DNN\n",
    "\n",
    "This code is used for fast calculation of exergy loss and KPIs of the PRICO process using a pre-trained deep neural network (DNN).\n",
    "The original model was trained using the Keras interface, but has been transformed into the ONNX platform for ease of use."
   ]
  },
  {
   "cell_type": "code",
   "execution_count": 1,
   "id": "e27b2a07-8e4a-4619-bc51-b9164b3baa48",
   "metadata": {
    "tags": []
   },
   "outputs": [],
   "source": [
    "#The following section preload every necsessary componenets from init.py to simply inference model\n",
    "from init import *"
   ]
  },
  {
   "cell_type": "markdown",
   "id": "1182b99c-6cc1-4492-82d7-aa72d3680309",
   "metadata": {},
   "source": [
    "## Prediction Function Inputs\n",
    "\n",
    "The inputs to the prediction function should be in the following format:\n",
    "\n",
    "- The composition of the coolant gas: \n",
    "    - `[1-10]` (Methane%, Ethane%, Propane%, Butane%, Nitrogen%, Ammonia%, Chlorine%, Ethylene%, Propene%, Isobutane%)\n",
    "- Molar flow rate (MR): \n",
    "    - `[11]` Molar flow (kgmole/s)\n",
    "- Compressor inlet pressure: \n",
    "    - `[12]` Compressor inlet pressure (kPa)\n",
    "- Compressor outlet pressure:\n",
    "    - `[13]` Compressor outlet pressure (kPa)\n",
    "\n",
    "Note that the composition values will be normalized to a sum of 1, regardless of the input values."
   ]
  },
  {
   "cell_type": "code",
   "execution_count": 2,
   "id": "605696f2-05e4-47e1-968e-539a90585ec3",
   "metadata": {
    "tags": []
   },
   "outputs": [
    {
     "name": "stdout",
     "output_type": "stream",
     "text": [
      "Gas        Molar Flow %\n",
      "-------------------------\n",
      "Methane    10.00%    \n",
      "Ethane     20.00%    \n",
      "Propane    30.00%    \n",
      "Butane     5.00%     \n",
      "Nitrogen   5.00%     \n",
      "Ammonia    6.00%     \n",
      "Chlorine   4.00%     \n",
      "Ethylene   10.00%    \n",
      "Propene    1.00%     \n",
      "Isobutane  9.00%     \n",
      "----------------------------------------\n",
      "MR1 molar flow                 1.50      \n",
      "Compressor inlet pressure      0.00      \n",
      "Compressor outlet pressure     0.00      \n",
      "\n",
      "\n",
      " --PREDICTIONS\n",
      "----------------------------------------\n",
      "VF of compressor inlet         0.98      \n",
      "Minimum approach temperature   -25.60    \n",
      "Exchanger exergy loss          5.14      \n",
      "Compressor exergy loss         1.18      \n",
      "Valve exergy loss              0.01      \n",
      "Aftercooler exergy loss        3.91      \n",
      "Total exergy loss              10.24     \n"
     ]
    }
   ],
   "source": [
    "#This function reports the inputs and outputs of DNN model in detail (VF=vapor fraction)\n",
    "predict([0.1,0.2,0.3,0.05,0.05,0.06,0.04,0.1,0.01,0.09,1.5,0,0])"
   ]
  },
  {
   "cell_type": "code",
   "execution_count": null,
   "id": "a172d47a-6f6e-4ca7-a696-0dca8d33f2ad",
   "metadata": {},
   "outputs": [],
   "source": []
  }
 ],
 "metadata": {
  "kernelspec": {
   "display_name": "Python 3 (ipykernel)",
   "language": "python",
   "name": "python3"
  },
  "language_info": {
   "codemirror_mode": {
    "name": "ipython",
    "version": 3
   },
   "file_extension": ".py",
   "mimetype": "text/x-python",
   "name": "python",
   "nbconvert_exporter": "python",
   "pygments_lexer": "ipython3",
   "version": "3.9.6"
  }
 },
 "nbformat": 4,
 "nbformat_minor": 5
}
